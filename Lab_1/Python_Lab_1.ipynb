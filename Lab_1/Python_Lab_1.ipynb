{
 "cells": [
  {
   "cell_type": "markdown",
   "metadata": {},
   "source": [
    "** Python Lab 1**\n",
    "\n",
    "Welcome to the python labs! These labs are designed to give you more exposure and experience using python and various packages for data analysis work.\n",
    "\n",
    "In this lab we will:\n",
    "- Read in the Watsi demo data\n",
    "- Clean and inspect the data\n",
    "- Transform the website log file data to a daily timeseries\n",
    "- Graph and analyze the new timeseries\n",
    "- Print out and analyze stats\n",
    "- Save the resulting data to a file for future analysis"
   ]
  },
  {
   "cell_type": "markdown",
   "metadata": {},
   "source": [
    "Let's start by importing some packages. The main ones we will be using are pandas, numpy, seaborn and matplotlib. The rest of the code in the next cell sets up default settings for the notebook or the packages and modules. Most people create a chunk of 'default' code that they re-use over and over to setup their notebooks to their liking.\n",
    "\n",
    "- pandas - http://pandas.pydata.org/\n",
    "- numpy - http://www.numpy.org/\n",
    "- seaborn - https://seaborn.pydata.org/\n",
    "- matplotlib - https://matplotlib.org/\n"
   ]
  },
  {
   "cell_type": "code",
   "execution_count": 1,
   "metadata": {},
   "outputs": [],
   "source": [
    "# Import packages\n",
    "import pandas as pd\n",
    "import numpy as np\n",
    "import seaborn as sns\n",
    "import matplotlib.pyplot as plt\n",
    "# show plots in the notebook\n",
    "%matplotlib inline\n",
    "#default notebook setup\n",
    "MAX_ROWS = 10\n",
    "pd.set_option('display.max_rows', MAX_ROWS)\n",
    "pd.set_option('display.max_columns', 200)\n",
    "pd.options.display.float_format = '{:3f}'.format # suppresses scientific notation in pandas\n",
    "# Seaborn styling\n",
    "sns.set(context='paper', style='whitegrid')"
   ]
  },
  {
   "cell_type": "markdown",
   "metadata": {},
   "source": [
    "#### Read in the Watsi demo data ####"
   ]
  },
  {
   "cell_type": "markdown",
   "metadata": {},
   "source": [
    "As mentioned above, in this lesson you’ll be working with web traffic data from a nonprofit called Watsi. *Every row in this dataset corresponds to a person visiting a watsi.org page (this is known as a pageview)*. The general flow of pageviews is referred to as web traffic."
   ]
  },
  {
   "cell_type": "markdown",
   "metadata": {},
   "source": [
    "Let's reads in the data"
   ]
  },
  {
   "cell_type": "code",
   "execution_count": 2,
   "metadata": {},
   "outputs": [],
   "source": [
    "data = pd.read_csv('watsi_dataset_demo.csv')\n",
    "data = data.fillna('') # replace missing values with strings for easier text processing"
   ]
  },
  {
   "cell_type": "markdown",
   "metadata": {},
   "source": [
    "And print out info about the dataframe using info()"
   ]
  },
  {
   "cell_type": "code",
   "execution_count": 3,
   "metadata": {},
   "outputs": [
    {
     "name": "stdout",
     "output_type": "stream",
     "text": [
      "<class 'pandas.core.frame.DataFrame'>\n",
      "RangeIndex: 5000 entries, 0 to 4999\n",
      "Data columns (total 9 columns):\n",
      "referrer           5000 non-null object\n",
      "timestamp          5000 non-null object\n",
      "title              5000 non-null object\n",
      "url                5000 non-null object\n",
      "user_agent         5000 non-null object\n",
      "user_id            5000 non-null object\n",
      "referrer_domain    5000 non-null object\n",
      "website_section    5000 non-null object\n",
      "platform           5000 non-null object\n",
      "dtypes: object(9)\n",
      "memory usage: 351.6+ KB\n"
     ]
    }
   ],
   "source": [
    "data.info() # prints out column names, counts and dtypes in the dataframe"
   ]
  },
  {
   "cell_type": "markdown",
   "metadata": {},
   "source": [
    "The Watsi web traffic can now be called via the 'data' dataframe object"
   ]
  },
  {
   "cell_type": "code",
   "execution_count": 4,
   "metadata": {
    "scrolled": true
   },
   "outputs": [
    {
     "data": {
      "text/html": [
       "<div>\n",
       "<style scoped>\n",
       "    .dataframe tbody tr th:only-of-type {\n",
       "        vertical-align: middle;\n",
       "    }\n",
       "\n",
       "    .dataframe tbody tr th {\n",
       "        vertical-align: top;\n",
       "    }\n",
       "\n",
       "    .dataframe thead th {\n",
       "        text-align: right;\n",
       "    }\n",
       "</style>\n",
       "<table border=\"1\" class=\"dataframe\">\n",
       "  <thead>\n",
       "    <tr style=\"text-align: right;\">\n",
       "      <th></th>\n",
       "      <th>referrer</th>\n",
       "      <th>timestamp</th>\n",
       "      <th>title</th>\n",
       "      <th>url</th>\n",
       "      <th>user_agent</th>\n",
       "      <th>user_id</th>\n",
       "      <th>referrer_domain</th>\n",
       "      <th>website_section</th>\n",
       "      <th>platform</th>\n",
       "    </tr>\n",
       "  </thead>\n",
       "  <tbody>\n",
       "    <tr>\n",
       "      <th>0</th>\n",
       "      <td>https://www.google.com/</td>\n",
       "      <td>2016-02-05 00:48:23</td>\n",
       "      <td>Watsi | Fund medical treatments for people aro...</td>\n",
       "      <td>https://watsi.org/</td>\n",
       "      <td>Mozilla/5.0 (Macintosh; Intel Mac OS X 10_10_4...</td>\n",
       "      <td>CHAROLETTE S</td>\n",
       "      <td>google</td>\n",
       "      <td></td>\n",
       "      <td>Desktop</td>\n",
       "    </tr>\n",
       "    <tr>\n",
       "      <th>1</th>\n",
       "      <td>https://themeteorchef.com/snippets/making-use-...</td>\n",
       "      <td>2016-02-24 23:12:10</td>\n",
       "      <td>Watsi | The Meteor Chef</td>\n",
       "      <td>https://watsi.org/team/the-meteor-chef</td>\n",
       "      <td>Mozilla/5.0 (Windows NT 6.1; WOW64) AppleWebKi...</td>\n",
       "      <td>WARREN Q</td>\n",
       "      <td>themeteorchef.com</td>\n",
       "      <td>team</td>\n",
       "      <td>Desktop</td>\n",
       "    </tr>\n",
       "    <tr>\n",
       "      <th>2</th>\n",
       "      <td>https://watsi.org/</td>\n",
       "      <td>2015-12-25 17:59:35</td>\n",
       "      <td>Watsi | Give the gift of health with a Watsi G...</td>\n",
       "      <td>https://watsi.org/gift-cards</td>\n",
       "      <td>Mozilla/5.0 (Macintosh; Intel Mac OS X 10_11_1...</td>\n",
       "      <td>MITCHEL O</td>\n",
       "      <td>watsi.org</td>\n",
       "      <td>gift-cards</td>\n",
       "      <td>Desktop</td>\n",
       "    </tr>\n",
       "    <tr>\n",
       "      <th>3</th>\n",
       "      <td></td>\n",
       "      <td>2016-02-05 21:19:30</td>\n",
       "      <td>Watsi | Fund medical treatments for people aro...</td>\n",
       "      <td>https://watsi.org/</td>\n",
       "      <td>Mozilla/5.0 (Macintosh; Intel Mac OS X 10_11_2...</td>\n",
       "      <td>MICHEL O</td>\n",
       "      <td></td>\n",
       "      <td></td>\n",
       "      <td>Desktop</td>\n",
       "    </tr>\n",
       "    <tr>\n",
       "      <th>4</th>\n",
       "      <td>https://watsi.org/fund-treatments</td>\n",
       "      <td>2016-02-14 19:30:08</td>\n",
       "      <td>Watsi | Fund medical treatments for people aro...</td>\n",
       "      <td>https://watsi.org/</td>\n",
       "      <td>Mozilla/5.0 (Macintosh; Intel Mac OS X 10_10_2...</td>\n",
       "      <td>ANDREE N</td>\n",
       "      <td>watsi.org</td>\n",
       "      <td></td>\n",
       "      <td>Desktop</td>\n",
       "    </tr>\n",
       "  </tbody>\n",
       "</table>\n",
       "</div>"
      ],
      "text/plain": [
       "                                            referrer            timestamp  \\\n",
       "0                            https://www.google.com/  2016-02-05 00:48:23   \n",
       "1  https://themeteorchef.com/snippets/making-use-...  2016-02-24 23:12:10   \n",
       "2                                 https://watsi.org/  2015-12-25 17:59:35   \n",
       "3                                                     2016-02-05 21:19:30   \n",
       "4                  https://watsi.org/fund-treatments  2016-02-14 19:30:08   \n",
       "\n",
       "                                               title  \\\n",
       "0  Watsi | Fund medical treatments for people aro...   \n",
       "1                            Watsi | The Meteor Chef   \n",
       "2  Watsi | Give the gift of health with a Watsi G...   \n",
       "3  Watsi | Fund medical treatments for people aro...   \n",
       "4  Watsi | Fund medical treatments for people aro...   \n",
       "\n",
       "                                      url  \\\n",
       "0                      https://watsi.org/   \n",
       "1  https://watsi.org/team/the-meteor-chef   \n",
       "2            https://watsi.org/gift-cards   \n",
       "3                      https://watsi.org/   \n",
       "4                      https://watsi.org/   \n",
       "\n",
       "                                          user_agent       user_id  \\\n",
       "0  Mozilla/5.0 (Macintosh; Intel Mac OS X 10_10_4...  CHAROLETTE S   \n",
       "1  Mozilla/5.0 (Windows NT 6.1; WOW64) AppleWebKi...      WARREN Q   \n",
       "2  Mozilla/5.0 (Macintosh; Intel Mac OS X 10_11_1...     MITCHEL O   \n",
       "3  Mozilla/5.0 (Macintosh; Intel Mac OS X 10_11_2...      MICHEL O   \n",
       "4  Mozilla/5.0 (Macintosh; Intel Mac OS X 10_10_2...      ANDREE N   \n",
       "\n",
       "     referrer_domain website_section platform  \n",
       "0             google                  Desktop  \n",
       "1  themeteorchef.com            team  Desktop  \n",
       "2          watsi.org      gift-cards  Desktop  \n",
       "3                                     Desktop  \n",
       "4          watsi.org                  Desktop  "
      ]
     },
     "execution_count": 4,
     "metadata": {},
     "output_type": "execute_result"
    }
   ],
   "source": [
    "data.head() # Quickly display the head or top 5 rows to eyeball the data"
   ]
  },
  {
   "cell_type": "markdown",
   "metadata": {},
   "source": [
    "#### Clean and inspect the data ####"
   ]
  },
  {
   "cell_type": "markdown",
   "metadata": {},
   "source": [
    "Let's change the 'timestamp' column format from an object to datetime format"
   ]
  },
  {
   "cell_type": "code",
   "execution_count": 5,
   "metadata": {},
   "outputs": [],
   "source": [
    "data['timestamp'] = pd.to_datetime(data['timestamp'], format='%Y-%m-%d %H:%M:%S')"
   ]
  },
  {
   "cell_type": "markdown",
   "metadata": {},
   "source": [
    "Confirm the change with info()"
   ]
  },
  {
   "cell_type": "code",
   "execution_count": 6,
   "metadata": {},
   "outputs": [
    {
     "name": "stdout",
     "output_type": "stream",
     "text": [
      "<class 'pandas.core.frame.DataFrame'>\n",
      "RangeIndex: 5000 entries, 0 to 4999\n",
      "Data columns (total 9 columns):\n",
      "referrer           5000 non-null object\n",
      "timestamp          5000 non-null datetime64[ns]\n",
      "title              5000 non-null object\n",
      "url                5000 non-null object\n",
      "user_agent         5000 non-null object\n",
      "user_id            5000 non-null object\n",
      "referrer_domain    5000 non-null object\n",
      "website_section    5000 non-null object\n",
      "platform           5000 non-null object\n",
      "dtypes: datetime64[ns](1), object(8)\n",
      "memory usage: 351.6+ KB\n"
     ]
    }
   ],
   "source": [
    "data.info() "
   ]
  },
  {
   "cell_type": "markdown",
   "metadata": {},
   "source": [
    "That's better..Now since each row equals a pageview let's add them back in so we can start to graph the data as a time series. To do that we'll create a new column in our dataframe called 'pageviews' and set it to 1 on each row."
   ]
  },
  {
   "cell_type": "code",
   "execution_count": 7,
   "metadata": {},
   "outputs": [],
   "source": [
    "data['pageviews'] = 1 "
   ]
  },
  {
   "cell_type": "markdown",
   "metadata": {},
   "source": [
    "Check that we have equal number pageviews and rows"
   ]
  },
  {
   "cell_type": "code",
   "execution_count": 8,
   "metadata": {},
   "outputs": [
    {
     "name": "stdout",
     "output_type": "stream",
     "text": [
      "Sum of pageviews: 5000\n",
      "Sum of rows: 5000\n"
     ]
    }
   ],
   "source": [
    "print('Sum of pageviews:', sum(data['pageviews']))\n",
    "print('Sum of rows:', len(data))"
   ]
  },
  {
   "cell_type": "markdown",
   "metadata": {},
   "source": [
    "Let's create a timeseries of the data so we can view the volume of pageviews for this period. First let's set the timestamp column as the index of the table since we are creating a timeseries."
   ]
  },
  {
   "cell_type": "code",
   "execution_count": 9,
   "metadata": {},
   "outputs": [],
   "source": [
    "data.index = data['timestamp']"
   ]
  },
  {
   "cell_type": "markdown",
   "metadata": {},
   "source": [
    "Print summary info on dataframe and confirm a DatetimeIndex"
   ]
  },
  {
   "cell_type": "code",
   "execution_count": 10,
   "metadata": {},
   "outputs": [
    {
     "name": "stdout",
     "output_type": "stream",
     "text": [
      "<class 'pandas.core.frame.DataFrame'>\n",
      "DatetimeIndex: 5000 entries, 2016-02-05 00:48:23 to 2015-11-17 16:38:25\n",
      "Data columns (total 10 columns):\n",
      "referrer           5000 non-null object\n",
      "timestamp          5000 non-null datetime64[ns]\n",
      "title              5000 non-null object\n",
      "url                5000 non-null object\n",
      "user_agent         5000 non-null object\n",
      "user_id            5000 non-null object\n",
      "referrer_domain    5000 non-null object\n",
      "website_section    5000 non-null object\n",
      "platform           5000 non-null object\n",
      "pageviews          5000 non-null int64\n",
      "dtypes: datetime64[ns](1), int64(1), object(8)\n",
      "memory usage: 429.7+ KB\n"
     ]
    }
   ],
   "source": [
    "data.info()"
   ]
  },
  {
   "cell_type": "markdown",
   "metadata": {},
   "source": [
    "#### Transform the website log file data to a daily timeseries ####"
   ]
  },
  {
   "cell_type": "markdown",
   "metadata": {},
   "source": [
    "Now let's take the dataset and resample the timestamp index to 'days' and sum up the number of pageviews per day, then plot"
   ]
  },
  {
   "cell_type": "code",
   "execution_count": 11,
   "metadata": {},
   "outputs": [
    {
     "data": {
      "image/png": "[encoded data removed]",
      "text/plain": [
       "<matplotlib.figure.Figure at 0x110d10358>"
      ]
     },
     "metadata": {},
     "output_type": "display_data"
    }
   ],
   "source": [
    "data.resample('D').sum().plot(figsize=(10,6)); \n",
    "# https://pandas.pydata.org/pandas-docs/stable/generated/pandas.DataFrame.resample.html"
   ]
  },
  {
   "cell_type": "markdown",
   "metadata": {},
   "source": [
    "Something seems off since the data doesnt seem to start till October. Let's investigate. Let's print out the earliest date in the timeseries and also resample the time series by month."
   ]
  },
  {
   "cell_type": "code",
   "execution_count": 12,
   "metadata": {},
   "outputs": [
    {
     "name": "stdout",
     "output_type": "stream",
     "text": [
      "Earliest date in the timeseries: 2014-01-22 09:08:18\n"
     ]
    },
    {
     "data": {
      "text/html": [
       "<div>\n",
       "<style scoped>\n",
       "    .dataframe tbody tr th:only-of-type {\n",
       "        vertical-align: middle;\n",
       "    }\n",
       "\n",
       "    .dataframe tbody tr th {\n",
       "        vertical-align: top;\n",
       "    }\n",
       "\n",
       "    .dataframe thead th {\n",
       "        text-align: right;\n",
       "    }\n",
       "</style>\n",
       "<table border=\"1\" class=\"dataframe\">\n",
       "  <thead>\n",
       "    <tr style=\"text-align: right;\">\n",
       "      <th></th>\n",
       "      <th>pageviews</th>\n",
       "    </tr>\n",
       "    <tr>\n",
       "      <th>timestamp</th>\n",
       "      <th></th>\n",
       "    </tr>\n",
       "  </thead>\n",
       "  <tbody>\n",
       "    <tr>\n",
       "      <th>2014-01-31</th>\n",
       "      <td>1</td>\n",
       "    </tr>\n",
       "    <tr>\n",
       "      <th>2014-02-28</th>\n",
       "      <td>0</td>\n",
       "    </tr>\n",
       "    <tr>\n",
       "      <th>2014-03-31</th>\n",
       "      <td>0</td>\n",
       "    </tr>\n",
       "    <tr>\n",
       "      <th>2014-04-30</th>\n",
       "      <td>0</td>\n",
       "    </tr>\n",
       "    <tr>\n",
       "      <th>2014-05-31</th>\n",
       "      <td>0</td>\n",
       "    </tr>\n",
       "    <tr>\n",
       "      <th>...</th>\n",
       "      <td>...</td>\n",
       "    </tr>\n",
       "    <tr>\n",
       "      <th>2015-11-30</th>\n",
       "      <td>803</td>\n",
       "    </tr>\n",
       "    <tr>\n",
       "      <th>2015-12-31</th>\n",
       "      <td>994</td>\n",
       "    </tr>\n",
       "    <tr>\n",
       "      <th>2016-01-31</th>\n",
       "      <td>687</td>\n",
       "    </tr>\n",
       "    <tr>\n",
       "      <th>2016-02-29</th>\n",
       "      <td>854</td>\n",
       "    </tr>\n",
       "    <tr>\n",
       "      <th>2016-03-31</th>\n",
       "      <td>542</td>\n",
       "    </tr>\n",
       "  </tbody>\n",
       "</table>\n",
       "<p>27 rows × 1 columns</p>\n",
       "</div>"
      ],
      "text/plain": [
       "            pageviews\n",
       "timestamp            \n",
       "2014-01-31          1\n",
       "2014-02-28          0\n",
       "2014-03-31          0\n",
       "2014-04-30          0\n",
       "2014-05-31          0\n",
       "...               ...\n",
       "2015-11-30        803\n",
       "2015-12-31        994\n",
       "2016-01-31        687\n",
       "2016-02-29        854\n",
       "2016-03-31        542\n",
       "\n",
       "[27 rows x 1 columns]"
      ]
     },
     "execution_count": 12,
     "metadata": {},
     "output_type": "execute_result"
    }
   ],
   "source": [
    "print('Earliest date in the timeseries:', data['timestamp'].min())\n",
    "data.resample('M').sum()"
   ]
  },
  {
   "cell_type": "markdown",
   "metadata": {},
   "source": [
    "This is the culprit. It appears a data point from 2014 made it into the dataset. "
   ]
  },
  {
   "cell_type": "code",
   "execution_count": 13,
   "metadata": {
    "scrolled": true
   },
   "outputs": [
    {
     "data": {
      "text/html": [
       "<div>\n",
       "<style scoped>\n",
       "    .dataframe tbody tr th:only-of-type {\n",
       "        vertical-align: middle;\n",
       "    }\n",
       "\n",
       "    .dataframe tbody tr th {\n",
       "        vertical-align: top;\n",
       "    }\n",
       "\n",
       "    .dataframe thead th {\n",
       "        text-align: right;\n",
       "    }\n",
       "</style>\n",
       "<table border=\"1\" class=\"dataframe\">\n",
       "  <thead>\n",
       "    <tr style=\"text-align: right;\">\n",
       "      <th></th>\n",
       "      <th>referrer</th>\n",
       "      <th>timestamp</th>\n",
       "      <th>title</th>\n",
       "      <th>url</th>\n",
       "      <th>user_agent</th>\n",
       "      <th>user_id</th>\n",
       "      <th>referrer_domain</th>\n",
       "      <th>website_section</th>\n",
       "      <th>platform</th>\n",
       "      <th>pageviews</th>\n",
       "    </tr>\n",
       "    <tr>\n",
       "      <th>timestamp</th>\n",
       "      <th></th>\n",
       "      <th></th>\n",
       "      <th></th>\n",
       "      <th></th>\n",
       "      <th></th>\n",
       "      <th></th>\n",
       "      <th></th>\n",
       "      <th></th>\n",
       "      <th></th>\n",
       "      <th></th>\n",
       "    </tr>\n",
       "  </thead>\n",
       "  <tbody>\n",
       "    <tr>\n",
       "      <th>2014-01-22 09:08:18</th>\n",
       "      <td>https://watsi.org/profile/aab987cf91d0-adrienne</td>\n",
       "      <td>2014-01-22 09:08:18</td>\n",
       "      <td>Watsi | Adrienne is a mother from Haiti who ne...</td>\n",
       "      <td>https://watsi.org/profile/aab987cf91d0-adrienne</td>\n",
       "      <td>Mozilla/5.0 (Linux; Android 4.4.2; QMobile X11...</td>\n",
       "      <td>HARLAN M</td>\n",
       "      <td>watsi.org</td>\n",
       "      <td>profile</td>\n",
       "      <td>Android</td>\n",
       "      <td>1</td>\n",
       "    </tr>\n",
       "  </tbody>\n",
       "</table>\n",
       "</div>"
      ],
      "text/plain": [
       "                                                            referrer  \\\n",
       "timestamp                                                              \n",
       "2014-01-22 09:08:18  https://watsi.org/profile/aab987cf91d0-adrienne   \n",
       "\n",
       "                              timestamp  \\\n",
       "timestamp                                 \n",
       "2014-01-22 09:08:18 2014-01-22 09:08:18   \n",
       "\n",
       "                                                                 title  \\\n",
       "timestamp                                                                \n",
       "2014-01-22 09:08:18  Watsi | Adrienne is a mother from Haiti who ne...   \n",
       "\n",
       "                                                                 url  \\\n",
       "timestamp                                                              \n",
       "2014-01-22 09:08:18  https://watsi.org/profile/aab987cf91d0-adrienne   \n",
       "\n",
       "                                                            user_agent  \\\n",
       "timestamp                                                                \n",
       "2014-01-22 09:08:18  Mozilla/5.0 (Linux; Android 4.4.2; QMobile X11...   \n",
       "\n",
       "                      user_id referrer_domain website_section platform  \\\n",
       "timestamp                                                                \n",
       "2014-01-22 09:08:18  HARLAN M       watsi.org         profile  Android   \n",
       "\n",
       "                     pageviews  \n",
       "timestamp                       \n",
       "2014-01-22 09:08:18          1  "
      ]
     },
     "execution_count": 13,
     "metadata": {},
     "output_type": "execute_result"
    }
   ],
   "source": [
    "data['2014'] # Notice how I'm filting the timeseries by 'YEAR'"
   ]
  },
  {
   "cell_type": "markdown",
   "metadata": {},
   "source": [
    "Let's slice it out so we are only looking at 2015-2016 data"
   ]
  },
  {
   "cell_type": "code",
   "execution_count": 14,
   "metadata": {},
   "outputs": [],
   "source": [
    "data = data['2015':'2016'] # Notice the slicing of the timeseries"
   ]
  },
  {
   "cell_type": "markdown",
   "metadata": {},
   "source": [
    "#### Graph and analyze the new timeseries ####"
   ]
  },
  {
   "cell_type": "markdown",
   "metadata": {},
   "source": [
    "And we'll replot the pageviews of Watsi over this time period"
   ]
  },
  {
   "cell_type": "code",
   "execution_count": 15,
   "metadata": {},
   "outputs": [
    {
     "data": {
      "image/png": "[encoded data removed]",
      "text/plain": [
       "<matplotlib.figure.Figure at 0x1112f0780>"
      ]
     },
     "metadata": {},
     "output_type": "display_data"
    }
   ],
   "source": [
    "data.resample('D').sum().plot(figsize=(10,6));"
   ]
  },
  {
   "cell_type": "markdown",
   "metadata": {},
   "source": [
    "This looks good so let's save this to a new variable for future analysis"
   ]
  },
  {
   "cell_type": "code",
   "execution_count": 16,
   "metadata": {},
   "outputs": [
    {
     "data": {
      "text/html": [
       "<div>\n",
       "<style scoped>\n",
       "    .dataframe tbody tr th:only-of-type {\n",
       "        vertical-align: middle;\n",
       "    }\n",
       "\n",
       "    .dataframe tbody tr th {\n",
       "        vertical-align: top;\n",
       "    }\n",
       "\n",
       "    .dataframe thead th {\n",
       "        text-align: right;\n",
       "    }\n",
       "</style>\n",
       "<table border=\"1\" class=\"dataframe\">\n",
       "  <thead>\n",
       "    <tr style=\"text-align: right;\">\n",
       "      <th></th>\n",
       "      <th>pageviews</th>\n",
       "    </tr>\n",
       "    <tr>\n",
       "      <th>timestamp</th>\n",
       "      <th></th>\n",
       "    </tr>\n",
       "  </thead>\n",
       "  <tbody>\n",
       "    <tr>\n",
       "      <th>2015-09-16</th>\n",
       "      <td>23</td>\n",
       "    </tr>\n",
       "    <tr>\n",
       "      <th>2015-09-17</th>\n",
       "      <td>21</td>\n",
       "    </tr>\n",
       "    <tr>\n",
       "      <th>2015-09-18</th>\n",
       "      <td>38</td>\n",
       "    </tr>\n",
       "    <tr>\n",
       "      <th>2015-09-19</th>\n",
       "      <td>20</td>\n",
       "    </tr>\n",
       "    <tr>\n",
       "      <th>2015-09-20</th>\n",
       "      <td>19</td>\n",
       "    </tr>\n",
       "  </tbody>\n",
       "</table>\n",
       "</div>"
      ],
      "text/plain": [
       "            pageviews\n",
       "timestamp            \n",
       "2015-09-16         23\n",
       "2015-09-17         21\n",
       "2015-09-18         38\n",
       "2015-09-19         20\n",
       "2015-09-20         19"
      ]
     },
     "execution_count": 16,
     "metadata": {},
     "output_type": "execute_result"
    }
   ],
   "source": [
    "daily_pageviews = data.resample('D').sum()\n",
    "daily_pageviews.head() # Preview the new dataframe/timeseries"
   ]
  },
  {
   "cell_type": "markdown",
   "metadata": {},
   "source": [
    "Let's dig into the daily pageviews and see if there's any interesting stats there"
   ]
  },
  {
   "cell_type": "code",
   "execution_count": 17,
   "metadata": {},
   "outputs": [
    {
     "data": {
      "text/html": [
       "<div>\n",
       "<style scoped>\n",
       "    .dataframe tbody tr th:only-of-type {\n",
       "        vertical-align: middle;\n",
       "    }\n",
       "\n",
       "    .dataframe tbody tr th {\n",
       "        vertical-align: top;\n",
       "    }\n",
       "\n",
       "    .dataframe thead th {\n",
       "        text-align: right;\n",
       "    }\n",
       "</style>\n",
       "<table border=\"1\" class=\"dataframe\">\n",
       "  <thead>\n",
       "    <tr style=\"text-align: right;\">\n",
       "      <th></th>\n",
       "      <th>pageviews</th>\n",
       "    </tr>\n",
       "  </thead>\n",
       "  <tbody>\n",
       "    <tr>\n",
       "      <th>count</th>\n",
       "      <td>188.000000</td>\n",
       "    </tr>\n",
       "    <tr>\n",
       "      <th>mean</th>\n",
       "      <td>26.590426</td>\n",
       "    </tr>\n",
       "    <tr>\n",
       "      <th>std</th>\n",
       "      <td>11.111843</td>\n",
       "    </tr>\n",
       "    <tr>\n",
       "      <th>min</th>\n",
       "      <td>8.000000</td>\n",
       "    </tr>\n",
       "    <tr>\n",
       "      <th>25%</th>\n",
       "      <td>19.000000</td>\n",
       "    </tr>\n",
       "    <tr>\n",
       "      <th>50%</th>\n",
       "      <td>23.000000</td>\n",
       "    </tr>\n",
       "    <tr>\n",
       "      <th>75%</th>\n",
       "      <td>33.000000</td>\n",
       "    </tr>\n",
       "    <tr>\n",
       "      <th>max</th>\n",
       "      <td>70.000000</td>\n",
       "    </tr>\n",
       "  </tbody>\n",
       "</table>\n",
       "</div>"
      ],
      "text/plain": [
       "       pageviews\n",
       "count 188.000000\n",
       "mean   26.590426\n",
       "std    11.111843\n",
       "min     8.000000\n",
       "25%    19.000000\n",
       "50%    23.000000\n",
       "75%    33.000000\n",
       "max    70.000000"
      ]
     },
     "execution_count": 17,
     "metadata": {},
     "output_type": "execute_result"
    }
   ],
   "source": [
    "daily_pageviews.describe()"
   ]
  },
  {
   "cell_type": "markdown",
   "metadata": {},
   "source": [
    "Let's get some more stats and try to visualize it better. Below is a chunk of code that will calculate a series of stats. Copy and run the cell."
   ]
  },
  {
   "cell_type": "code",
   "execution_count": 18,
   "metadata": {},
   "outputs": [
    {
     "name": "stdout",
     "output_type": "stream",
     "text": [
      "Stats on pageviews:\n",
      "\n",
      "count   188.000000\n",
      "mean     26.590426\n",
      "std      11.111843\n",
      "min       8.000000\n",
      "25%      19.000000\n",
      "50%      23.000000\n",
      "75%      33.000000\n",
      "max      70.000000\n",
      "Name: pageviews, dtype: float64\n",
      "\n",
      "median--> 23.000\n",
      "mode--> 0    21\n",
      "dtype: int64\n",
      "variance--> 123.473\n",
      "UCL--> 48.814\n",
      "LCL--> 4.367\n",
      "skewness--> 1.010\n",
      "kurtosis--> 1.157\n",
      "\n"
     ]
    },
    {
     "data": {
      "image/png": "[encoded data removed]",
      "text/plain": [
       "<matplotlib.figure.Figure at 0x1118d8320>"
      ]
     },
     "metadata": {},
     "output_type": "display_data"
    }
   ],
   "source": [
    "print('Stats on {}:\\n'.format('pageviews'))\n",
    "print (daily_pageviews['pageviews'].describe()) # print the .describe() method\n",
    "\n",
    "# set stat variables\n",
    "men = daily_pageviews['pageviews'].mean() # mean\n",
    "mod = daily_pageviews['pageviews'].mode() # mode\n",
    "med = daily_pageviews['pageviews'].median(axis = 0) # median\n",
    "var = daily_pageviews['pageviews'].var() # variance\n",
    "ske = daily_pageviews['pageviews'].skew() # skewness\n",
    "kur = daily_pageviews['pageviews'].kurt() # kurtosis\n",
    "std = daily_pageviews['pageviews'].std() # standard deviation\n",
    "ucl = men + (std*2) # about 95 percent of the data values are within two standard deviations - upper control limit\n",
    "lcl = men - (std*2) # about 95 percent of the data values are within two standard deviations - lower control limit\n",
    "\n",
    "# print stats\n",
    "print('\\nmedian--> {0:.3f}'.format(med))\n",
    "print('mode--> {}'.format(mod))\n",
    "print('variance--> {0:.3f}'.format(var))\n",
    "print('UCL--> {0:.3f}'.format(ucl))\n",
    "print('LCL--> {0:.3f}'.format(lcl))\n",
    "print('skewness--> {0:.3f}'.format(ske))\n",
    "print('kurtosis--> {0:.3f}\\n'.format(kur))\n",
    "\n",
    "# Seaborn graphs below\n",
    "sns.set(style=\"ticks\") # sets aesthetic styling\n",
    "f, (ax_box, ax_hist) = plt.subplots(2, sharex=True, gridspec_kw={\"height_ratios\": (.15, .85)}) # creates matplot\n",
    "\n",
    "sns.boxplot(daily_pageviews['pageviews'].dropna(), ax=ax_box) # builds seaborns boxplot\n",
    "sns.distplot(daily_pageviews['pageviews'].dropna(), ax=ax_hist, kde=True, rug=True) # builds seaborns histo\n",
    "\n",
    "ax_box.set(yticks=[]) # adds ticks\n",
    "sns.despine(ax=ax_hist) # removes border on histo\n",
    "sns.despine(ax=ax_box, left=True) # removes border on box"
   ]
  },
  {
   "cell_type": "markdown",
   "metadata": {},
   "source": [
    "#### Print out and analyze stats ####"
   ]
  },
  {
   "cell_type": "markdown",
   "metadata": {},
   "source": [
    "We can put the previous code in a function so we can more easily call it on other columns in the dataset"
   ]
  },
  {
   "cell_type": "code",
   "execution_count": 19,
   "metadata": {},
   "outputs": [],
   "source": [
    "def stats(dataframe, column):\n",
    "    c = column # variable to analyze\n",
    "    df = dataframe    # dataframe the variable is in\n",
    "\n",
    "    print('Stats on {}:\\n'.format(c))\n",
    "    print (df[c].describe()) # print the .describe() method\n",
    "\n",
    "    # set stat variables\n",
    "    men = df[c].mean() # mean\n",
    "    mod = df[c].mode() # mode\n",
    "    med = df[c].median(axis = 0) # median\n",
    "    var = df[c].var() # variance\n",
    "    ske = df[c].skew() # skewness\n",
    "    kur = df[c].kurt() # kurtosis\n",
    "    std = df[c].std() # standard deviation\n",
    "    ucl = men + (std*2) # about 95 percent of the data values are within two standard deviations - upper control limit\n",
    "    lcl = men - (std*2) # about 95 percent of the data values are within two standard deviations - lower control limit\n",
    "\n",
    "    # print stats\n",
    "    print('\\nmedian--> {0:.3f}'.format(med))\n",
    "    print('mode--> {}'.format(mod))\n",
    "    print('variance--> {0:.3f}'.format(var))\n",
    "    print('UCL--> {0:.3f}'.format(ucl))\n",
    "    print('LCL--> {0:.3f}'.format(lcl))\n",
    "    print('skewness--> {0:.3f}'.format(ske))\n",
    "    print('kurtosis--> {0:.3f}\\n'.format(kur))\n",
    "\n",
    "    # Seaborn graphs below\n",
    "    sns.set(style=\"ticks\") # sets aesthetic styling\n",
    "    f, (ax_box, ax_hist) = plt.subplots(2, sharex=True, gridspec_kw={\"height_ratios\": (.15, .85)}) # creates matplot\n",
    "\n",
    "    sns.boxplot(df[c].dropna(), ax=ax_box) # builds seaborns boxplot\n",
    "    sns.distplot(df[c].dropna(), ax=ax_hist, kde=True, rug=True) # builds seaborns histo\n",
    "\n",
    "    ax_box.set(yticks=[]) # adds ticks\n",
    "    sns.despine(ax=ax_hist) # removes border on histo\n",
    "    sns.despine(ax=ax_box, left=True) # removes border on box"
   ]
  },
  {
   "cell_type": "markdown",
   "metadata": {},
   "source": [
    "Now we can more easily get those stats by calling the function stats()"
   ]
  },
  {
   "cell_type": "code",
   "execution_count": 20,
   "metadata": {},
   "outputs": [
    {
     "name": "stdout",
     "output_type": "stream",
     "text": [
      "Stats on pageviews:\n",
      "\n",
      "count   188.000000\n",
      "mean     26.590426\n",
      "std      11.111843\n",
      "min       8.000000\n",
      "25%      19.000000\n",
      "50%      23.000000\n",
      "75%      33.000000\n",
      "max      70.000000\n",
      "Name: pageviews, dtype: float64\n",
      "\n",
      "median--> 23.000\n",
      "mode--> 0    21\n",
      "dtype: int64\n",
      "variance--> 123.473\n",
      "UCL--> 48.814\n",
      "LCL--> 4.367\n",
      "skewness--> 1.010\n",
      "kurtosis--> 1.157\n",
      "\n"
     ]
    },
    {
     "data": {
      "image/png": "[encoded data removed]",
      "text/plain": [
       "<matplotlib.figure.Figure at 0x11188af60>"
      ]
     },
     "metadata": {},
     "output_type": "display_data"
    }
   ],
   "source": [
    "stats(daily_pageviews, 'pageviews')"
   ]
  },
  {
   "cell_type": "markdown",
   "metadata": {},
   "source": [
    "Jumping back to the data set that includes 2015-2015 web traffic from Watsi..Let's reset the index of the dataframe 'data' back to what it was before we made it 'timestamp' and confirm the change with data.info()"
   ]
  },
  {
   "cell_type": "code",
   "execution_count": 21,
   "metadata": {},
   "outputs": [
    {
     "name": "stdout",
     "output_type": "stream",
     "text": [
      "<class 'pandas.core.frame.DataFrame'>\n",
      "RangeIndex: 4999 entries, 0 to 4998\n",
      "Data columns (total 10 columns):\n",
      "referrer           4999 non-null object\n",
      "timestamp          4999 non-null datetime64[ns]\n",
      "title              4999 non-null object\n",
      "url                4999 non-null object\n",
      "user_agent         4999 non-null object\n",
      "user_id            4999 non-null object\n",
      "referrer_domain    4999 non-null object\n",
      "website_section    4999 non-null object\n",
      "platform           4999 non-null object\n",
      "pageviews          4999 non-null int64\n",
      "dtypes: datetime64[ns](1), int64(1), object(8)\n",
      "memory usage: 390.6+ KB\n"
     ]
    }
   ],
   "source": [
    "data = data.reset_index(drop=True) \n",
    "data.info()"
   ]
  },
  {
   "cell_type": "markdown",
   "metadata": {},
   "source": [
    "#### Save the resulting data to a file for future analysis ####"
   ]
  },
  {
   "cell_type": "markdown",
   "metadata": {},
   "source": [
    "And we'll call head() to review before saving.."
   ]
  },
  {
   "cell_type": "code",
   "execution_count": 22,
   "metadata": {},
   "outputs": [
    {
     "data": {
      "text/html": [
       "<div>\n",
       "<style scoped>\n",
       "    .dataframe tbody tr th:only-of-type {\n",
       "        vertical-align: middle;\n",
       "    }\n",
       "\n",
       "    .dataframe tbody tr th {\n",
       "        vertical-align: top;\n",
       "    }\n",
       "\n",
       "    .dataframe thead th {\n",
       "        text-align: right;\n",
       "    }\n",
       "</style>\n",
       "<table border=\"1\" class=\"dataframe\">\n",
       "  <thead>\n",
       "    <tr style=\"text-align: right;\">\n",
       "      <th></th>\n",
       "      <th>referrer</th>\n",
       "      <th>timestamp</th>\n",
       "      <th>title</th>\n",
       "      <th>url</th>\n",
       "      <th>user_agent</th>\n",
       "      <th>user_id</th>\n",
       "      <th>referrer_domain</th>\n",
       "      <th>website_section</th>\n",
       "      <th>platform</th>\n",
       "      <th>pageviews</th>\n",
       "    </tr>\n",
       "  </thead>\n",
       "  <tbody>\n",
       "    <tr>\n",
       "      <th>0</th>\n",
       "      <td>https://www.google.com/</td>\n",
       "      <td>2016-02-05 00:48:23</td>\n",
       "      <td>Watsi | Fund medical treatments for people aro...</td>\n",
       "      <td>https://watsi.org/</td>\n",
       "      <td>Mozilla/5.0 (Macintosh; Intel Mac OS X 10_10_4...</td>\n",
       "      <td>CHAROLETTE S</td>\n",
       "      <td>google</td>\n",
       "      <td></td>\n",
       "      <td>Desktop</td>\n",
       "      <td>1</td>\n",
       "    </tr>\n",
       "    <tr>\n",
       "      <th>1</th>\n",
       "      <td>https://themeteorchef.com/snippets/making-use-...</td>\n",
       "      <td>2016-02-24 23:12:10</td>\n",
       "      <td>Watsi | The Meteor Chef</td>\n",
       "      <td>https://watsi.org/team/the-meteor-chef</td>\n",
       "      <td>Mozilla/5.0 (Windows NT 6.1; WOW64) AppleWebKi...</td>\n",
       "      <td>WARREN Q</td>\n",
       "      <td>themeteorchef.com</td>\n",
       "      <td>team</td>\n",
       "      <td>Desktop</td>\n",
       "      <td>1</td>\n",
       "    </tr>\n",
       "    <tr>\n",
       "      <th>2</th>\n",
       "      <td>https://watsi.org/</td>\n",
       "      <td>2015-12-25 17:59:35</td>\n",
       "      <td>Watsi | Give the gift of health with a Watsi G...</td>\n",
       "      <td>https://watsi.org/gift-cards</td>\n",
       "      <td>Mozilla/5.0 (Macintosh; Intel Mac OS X 10_11_1...</td>\n",
       "      <td>MITCHEL O</td>\n",
       "      <td>watsi.org</td>\n",
       "      <td>gift-cards</td>\n",
       "      <td>Desktop</td>\n",
       "      <td>1</td>\n",
       "    </tr>\n",
       "    <tr>\n",
       "      <th>3</th>\n",
       "      <td></td>\n",
       "      <td>2016-02-05 21:19:30</td>\n",
       "      <td>Watsi | Fund medical treatments for people aro...</td>\n",
       "      <td>https://watsi.org/</td>\n",
       "      <td>Mozilla/5.0 (Macintosh; Intel Mac OS X 10_11_2...</td>\n",
       "      <td>MICHEL O</td>\n",
       "      <td></td>\n",
       "      <td></td>\n",
       "      <td>Desktop</td>\n",
       "      <td>1</td>\n",
       "    </tr>\n",
       "    <tr>\n",
       "      <th>4</th>\n",
       "      <td>https://watsi.org/fund-treatments</td>\n",
       "      <td>2016-02-14 19:30:08</td>\n",
       "      <td>Watsi | Fund medical treatments for people aro...</td>\n",
       "      <td>https://watsi.org/</td>\n",
       "      <td>Mozilla/5.0 (Macintosh; Intel Mac OS X 10_10_2...</td>\n",
       "      <td>ANDREE N</td>\n",
       "      <td>watsi.org</td>\n",
       "      <td></td>\n",
       "      <td>Desktop</td>\n",
       "      <td>1</td>\n",
       "    </tr>\n",
       "  </tbody>\n",
       "</table>\n",
       "</div>"
      ],
      "text/plain": [
       "                                            referrer           timestamp  \\\n",
       "0                            https://www.google.com/ 2016-02-05 00:48:23   \n",
       "1  https://themeteorchef.com/snippets/making-use-... 2016-02-24 23:12:10   \n",
       "2                                 https://watsi.org/ 2015-12-25 17:59:35   \n",
       "3                                                    2016-02-05 21:19:30   \n",
       "4                  https://watsi.org/fund-treatments 2016-02-14 19:30:08   \n",
       "\n",
       "                                               title  \\\n",
       "0  Watsi | Fund medical treatments for people aro...   \n",
       "1                            Watsi | The Meteor Chef   \n",
       "2  Watsi | Give the gift of health with a Watsi G...   \n",
       "3  Watsi | Fund medical treatments for people aro...   \n",
       "4  Watsi | Fund medical treatments for people aro...   \n",
       "\n",
       "                                      url  \\\n",
       "0                      https://watsi.org/   \n",
       "1  https://watsi.org/team/the-meteor-chef   \n",
       "2            https://watsi.org/gift-cards   \n",
       "3                      https://watsi.org/   \n",
       "4                      https://watsi.org/   \n",
       "\n",
       "                                          user_agent       user_id  \\\n",
       "0  Mozilla/5.0 (Macintosh; Intel Mac OS X 10_10_4...  CHAROLETTE S   \n",
       "1  Mozilla/5.0 (Windows NT 6.1; WOW64) AppleWebKi...      WARREN Q   \n",
       "2  Mozilla/5.0 (Macintosh; Intel Mac OS X 10_11_1...     MITCHEL O   \n",
       "3  Mozilla/5.0 (Macintosh; Intel Mac OS X 10_11_2...      MICHEL O   \n",
       "4  Mozilla/5.0 (Macintosh; Intel Mac OS X 10_10_2...      ANDREE N   \n",
       "\n",
       "     referrer_domain website_section platform  pageviews  \n",
       "0             google                  Desktop          1  \n",
       "1  themeteorchef.com            team  Desktop          1  \n",
       "2          watsi.org      gift-cards  Desktop          1  \n",
       "3                                     Desktop          1  \n",
       "4          watsi.org                  Desktop          1  "
      ]
     },
     "execution_count": 22,
     "metadata": {},
     "output_type": "execute_result"
    }
   ],
   "source": [
    "data.head()"
   ]
  },
  {
   "cell_type": "markdown",
   "metadata": {},
   "source": [
    "Let's now save the 'data' dataframe to a csv for use in the next lab and bring this lab to an end."
   ]
  },
  {
   "cell_type": "code",
   "execution_count": 23,
   "metadata": {},
   "outputs": [],
   "source": [
    "data.to_csv('Lab_01_output.csv', )"
   ]
  },
  {
   "cell_type": "markdown",
   "metadata": {},
   "source": [
    " Good job!"
   ]
  }
 ],
 "metadata": {
  "kernelspec": {
   "display_name": "Python 3",
   "language": "python",
   "name": "python3"
  },
  "language_info": {
   "codemirror_mode": {
    "name": "ipython",
    "version": 3
   },
   "file_extension": ".py",
   "mimetype": "text/x-python",
   "name": "python",
   "nbconvert_exporter": "python",
   "pygments_lexer": "ipython3",
   "version": "3.6.4"
  }
 },
 "nbformat": 4,
 "nbformat_minor": 2
}
