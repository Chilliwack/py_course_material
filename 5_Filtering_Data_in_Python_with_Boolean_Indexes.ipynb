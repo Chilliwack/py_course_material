{
 "cells": [
  {
   "cell_type": "markdown",
   "metadata": {},
   "source": [
    "#### Lesson 5 Filtering Data in Python with Boolean Indexes ####\n",
    "Link to this lesson: https://community.modeanalytics.com/python/tutorial/python-filtering-with-boolean-indexes/"
   ]
  },
  {
   "cell_type": "code",
   "execution_count": 1,
   "metadata": {},
   "outputs": [],
   "source": [
    "# Import packages\n",
    "import pandas as pd\n",
    "# default notebook setup\n",
    "pd.options.display.float_format = '{:3f}'.format # suppresses scientific notation in pandas"
   ]
  },
  {
   "cell_type": "code",
   "execution_count": 2,
   "metadata": {
    "scrolled": true
   },
   "outputs": [
    {
     "name": "stdout",
     "output_type": "stream",
     "text": [
      "<class 'pandas.core.frame.DataFrame'>\n",
      "RangeIndex: 5000 entries, 0 to 4999\n",
      "Data columns (total 9 columns):\n",
      "referrer           5000 non-null object\n",
      "timestamp          5000 non-null object\n",
      "title              5000 non-null object\n",
      "url                5000 non-null object\n",
      "user_agent         5000 non-null object\n",
      "user_id            5000 non-null object\n",
      "referrer_domain    5000 non-null object\n",
      "website_section    5000 non-null object\n",
      "platform           5000 non-null object\n",
      "dtypes: object(9)\n",
      "memory usage: 351.6+ KB\n"
     ]
    }
   ],
   "source": [
    "# Reads in the csv of Watsi data\n",
    "data = pd.read_csv('watsi_dataset_demo.csv')\n",
    "data = data.fillna('') # replace missing values with strings for easier text processing\n",
    "data.info() # prints out column names, counts and dtypes in the dataframe\n",
    "# the Watsi web traffic can now be called via the 'data' dataframe object"
   ]
  },
  {
   "cell_type": "code",
   "execution_count": 3,
   "metadata": {},
   "outputs": [
    {
     "data": {
      "text/html": [
       "<div>\n",
       "<table border=\"1\" class=\"dataframe\">\n",
       "  <thead>\n",
       "    <tr style=\"text-align: right;\">\n",
       "      <th></th>\n",
       "      <th>referrer</th>\n",
       "      <th>timestamp</th>\n",
       "      <th>title</th>\n",
       "      <th>url</th>\n",
       "      <th>user_agent</th>\n",
       "      <th>user_id</th>\n",
       "      <th>referrer_domain</th>\n",
       "      <th>website_section</th>\n",
       "      <th>platform</th>\n",
       "    </tr>\n",
       "  </thead>\n",
       "  <tbody>\n",
       "    <tr>\n",
       "      <th>0</th>\n",
       "      <td>https://www.google.com/</td>\n",
       "      <td>2016-02-05 00:48:23</td>\n",
       "      <td>Watsi | Fund medical treatments for people aro...</td>\n",
       "      <td>https://watsi.org/</td>\n",
       "      <td>Mozilla/5.0 (Macintosh; Intel Mac OS X 10_10_4...</td>\n",
       "      <td>CHAROLETTE S</td>\n",
       "      <td>google</td>\n",
       "      <td></td>\n",
       "      <td>Desktop</td>\n",
       "    </tr>\n",
       "    <tr>\n",
       "      <th>1</th>\n",
       "      <td>https://themeteorchef.com/snippets/making-use-...</td>\n",
       "      <td>2016-02-24 23:12:10</td>\n",
       "      <td>Watsi | The Meteor Chef</td>\n",
       "      <td>https://watsi.org/team/the-meteor-chef</td>\n",
       "      <td>Mozilla/5.0 (Windows NT 6.1; WOW64) AppleWebKi...</td>\n",
       "      <td>WARREN Q</td>\n",
       "      <td>themeteorchef.com</td>\n",
       "      <td>team</td>\n",
       "      <td>Desktop</td>\n",
       "    </tr>\n",
       "    <tr>\n",
       "      <th>2</th>\n",
       "      <td>https://watsi.org/</td>\n",
       "      <td>2015-12-25 17:59:35</td>\n",
       "      <td>Watsi | Give the gift of health with a Watsi G...</td>\n",
       "      <td>https://watsi.org/gift-cards</td>\n",
       "      <td>Mozilla/5.0 (Macintosh; Intel Mac OS X 10_11_1...</td>\n",
       "      <td>MITCHEL O</td>\n",
       "      <td>watsi.org</td>\n",
       "      <td>gift-cards</td>\n",
       "      <td>Desktop</td>\n",
       "    </tr>\n",
       "    <tr>\n",
       "      <th>3</th>\n",
       "      <td></td>\n",
       "      <td>2016-02-05 21:19:30</td>\n",
       "      <td>Watsi | Fund medical treatments for people aro...</td>\n",
       "      <td>https://watsi.org/</td>\n",
       "      <td>Mozilla/5.0 (Macintosh; Intel Mac OS X 10_11_2...</td>\n",
       "      <td>MICHEL O</td>\n",
       "      <td></td>\n",
       "      <td></td>\n",
       "      <td>Desktop</td>\n",
       "    </tr>\n",
       "    <tr>\n",
       "      <th>4</th>\n",
       "      <td>https://watsi.org/fund-treatments</td>\n",
       "      <td>2016-02-14 19:30:08</td>\n",
       "      <td>Watsi | Fund medical treatments for people aro...</td>\n",
       "      <td>https://watsi.org/</td>\n",
       "      <td>Mozilla/5.0 (Macintosh; Intel Mac OS X 10_10_2...</td>\n",
       "      <td>ANDREE N</td>\n",
       "      <td>watsi.org</td>\n",
       "      <td></td>\n",
       "      <td>Desktop</td>\n",
       "    </tr>\n",
       "  </tbody>\n",
       "</table>\n",
       "</div>"
      ],
      "text/plain": [
       "                                            referrer            timestamp  \\\n",
       "0                            https://www.google.com/  2016-02-05 00:48:23   \n",
       "1  https://themeteorchef.com/snippets/making-use-...  2016-02-24 23:12:10   \n",
       "2                                 https://watsi.org/  2015-12-25 17:59:35   \n",
       "3                                                     2016-02-05 21:19:30   \n",
       "4                  https://watsi.org/fund-treatments  2016-02-14 19:30:08   \n",
       "\n",
       "                                               title  \\\n",
       "0  Watsi | Fund medical treatments for people aro...   \n",
       "1                            Watsi | The Meteor Chef   \n",
       "2  Watsi | Give the gift of health with a Watsi G...   \n",
       "3  Watsi | Fund medical treatments for people aro...   \n",
       "4  Watsi | Fund medical treatments for people aro...   \n",
       "\n",
       "                                      url  \\\n",
       "0                      https://watsi.org/   \n",
       "1  https://watsi.org/team/the-meteor-chef   \n",
       "2            https://watsi.org/gift-cards   \n",
       "3                      https://watsi.org/   \n",
       "4                      https://watsi.org/   \n",
       "\n",
       "                                          user_agent       user_id  \\\n",
       "0  Mozilla/5.0 (Macintosh; Intel Mac OS X 10_10_4...  CHAROLETTE S   \n",
       "1  Mozilla/5.0 (Windows NT 6.1; WOW64) AppleWebKi...      WARREN Q   \n",
       "2  Mozilla/5.0 (Macintosh; Intel Mac OS X 10_11_1...     MITCHEL O   \n",
       "3  Mozilla/5.0 (Macintosh; Intel Mac OS X 10_11_2...      MICHEL O   \n",
       "4  Mozilla/5.0 (Macintosh; Intel Mac OS X 10_10_2...      ANDREE N   \n",
       "\n",
       "     referrer_domain website_section platform  \n",
       "0             google                  Desktop  \n",
       "1  themeteorchef.com            team  Desktop  \n",
       "2          watsi.org      gift-cards  Desktop  \n",
       "3                                     Desktop  \n",
       "4          watsi.org                  Desktop  "
      ]
     },
     "execution_count": 3,
     "metadata": {},
     "output_type": "execute_result"
    }
   ],
   "source": [
    "data.head()"
   ]
  },
  {
   "cell_type": "code",
   "execution_count": 4,
   "metadata": {
    "scrolled": true
   },
   "outputs": [
    {
     "data": {
      "text/plain": [
       "0        True\n",
       "1       False\n",
       "2       False\n",
       "3        True\n",
       "4        True\n",
       "5       False\n",
       "6       False\n",
       "7       False\n",
       "8       False\n",
       "9        True\n",
       "10      False\n",
       "11      False\n",
       "12      False\n",
       "13      False\n",
       "14      False\n",
       "15      False\n",
       "16      False\n",
       "17      False\n",
       "18      False\n",
       "19       True\n",
       "20       True\n",
       "21      False\n",
       "22      False\n",
       "23      False\n",
       "24      False\n",
       "25      False\n",
       "26      False\n",
       "27      False\n",
       "28      False\n",
       "29       True\n",
       "        ...  \n",
       "4970    False\n",
       "4971    False\n",
       "4972    False\n",
       "4973     True\n",
       "4974     True\n",
       "4975    False\n",
       "4976    False\n",
       "4977    False\n",
       "4978    False\n",
       "4979    False\n",
       "4980    False\n",
       "4981    False\n",
       "4982    False\n",
       "4983     True\n",
       "4984     True\n",
       "4985    False\n",
       "4986    False\n",
       "4987     True\n",
       "4988    False\n",
       "4989    False\n",
       "4990    False\n",
       "4991     True\n",
       "4992    False\n",
       "4993    False\n",
       "4994    False\n",
       "4995    False\n",
       "4996     True\n",
       "4997     True\n",
       "4998    False\n",
       "4999    False\n",
       "Name: title, dtype: bool"
      ]
     },
     "execution_count": 4,
     "metadata": {},
     "output_type": "execute_result"
    }
   ],
   "source": [
    "(data['title'] == 'Watsi | Fund medical treatments for people around the world')"
   ]
  },
  {
   "cell_type": "code",
   "execution_count": 5,
   "metadata": {
    "collapsed": true
   },
   "outputs": [],
   "source": [
    "homepage_index = (data['title'] == 'Watsi | Fund medical treatments for people around the world')"
   ]
  },
  {
   "cell_type": "code",
   "execution_count": 6,
   "metadata": {},
   "outputs": [],
   "source": [
    "watsi_homepage = data[homepage_index]"
   ]
  },
  {
   "cell_type": "code",
   "execution_count": 7,
   "metadata": {},
   "outputs": [
    {
     "data": {
      "text/plain": [
       "                                                                                                     451\n",
       "https://www.google.com/                                                                              153\n",
       "https://www.google.co.in/                                                                             53\n",
       "https://watsi.org/                                                                                    22\n",
       "https://www.reddit.com/                                                                               21\n",
       "https://watsi.org/fund-treatments                                                                     18\n",
       "http://blog.watsi.org/                                                                                17\n",
       "https://watsi.org/about                                                                               17\n",
       "https://www.google.com.au/                                                                            16\n",
       "https://www.google.ca/                                                                                15\n",
       "https://www.google.com.ph/                                                                            15\n",
       "https://www.google.co.uk/                                                                             14\n",
       "http://www.forbes.com/sites/emmajohnson/2015/02/26/best-charity-sites-to-teach-kids-about-giving/     10\n",
       "https://t.co/2chd5GTmw1                                                                               10\n",
       "https://www.google.com                                                                                10\n",
       "Name: referrer, dtype: int64"
      ]
     },
     "execution_count": 7,
     "metadata": {},
     "output_type": "execute_result"
    }
   ],
   "source": [
    "watsi_homepage['referrer'].value_counts()[:15]"
   ]
  },
  {
   "cell_type": "code",
   "execution_count": 8,
   "metadata": {},
   "outputs": [
    {
     "data": {
      "text/plain": [
       "                         452\n",
       "google                   422\n",
       "watsi.org                169\n",
       "reddit.com                36\n",
       "facebook.com              24\n",
       "t.co                      22\n",
       "vessel.com                11\n",
       "forbes.com                10\n",
       "adzerk.net                 9\n",
       "thedoctorschannel.com      7\n",
       "Name: referrer_domain, dtype: int64"
      ]
     },
     "execution_count": 8,
     "metadata": {},
     "output_type": "execute_result"
    }
   ],
   "source": [
    "watsi_homepage['referrer_domain'].value_counts()[:10]"
   ]
  },
  {
   "cell_type": "code",
   "execution_count": 9,
   "metadata": {},
   "outputs": [
    {
     "data": {
      "text/plain": [
       "Watsi | Reddit Uplifting News                                  52\n",
       "Watsi | Fund medical treatments for people around the world    36\n",
       "The surprising role of Netflix in global health                 9\n",
       "Watsi | Give the gift of health with a Watsi Gift Card          2\n",
       "Name: title, dtype: int64"
      ]
     },
     "execution_count": 9,
     "metadata": {},
     "output_type": "execute_result"
    }
   ],
   "source": [
    "watsi_reddit_pageviews = data[data['referrer_domain'] == 'reddit.com']\n",
    "watsi_reddit_pageviews['title'].value_counts()[:20]"
   ]
  },
  {
   "cell_type": "code",
   "execution_count": 10,
   "metadata": {},
   "outputs": [
    {
     "data": {
      "text/html": [
       "<div>\n",
       "<table border=\"1\" class=\"dataframe\">\n",
       "  <thead>\n",
       "    <tr style=\"text-align: right;\">\n",
       "      <th></th>\n",
       "      <th>referrer</th>\n",
       "      <th>timestamp</th>\n",
       "      <th>title</th>\n",
       "      <th>url</th>\n",
       "      <th>user_agent</th>\n",
       "      <th>user_id</th>\n",
       "      <th>referrer_domain</th>\n",
       "      <th>website_section</th>\n",
       "      <th>platform</th>\n",
       "    </tr>\n",
       "  </thead>\n",
       "  <tbody>\n",
       "    <tr>\n",
       "      <th>222</th>\n",
       "      <td>http://www.inc.com/abigail-tracy/new-crowdfund...</td>\n",
       "      <td>2015-12-07 23:15:52</td>\n",
       "      <td>Watsi | Fund medical treatments for people aro...</td>\n",
       "      <td>https://watsi.org/</td>\n",
       "      <td>Mozilla/5.0 (iPad; CPU OS 9_1 like Mac OS X) A...</td>\n",
       "      <td>BERNADETTE W</td>\n",
       "      <td>inc.com</td>\n",
       "      <td></td>\n",
       "      <td>iPad</td>\n",
       "    </tr>\n",
       "    <tr>\n",
       "      <th>568</th>\n",
       "      <td>http://www.google.pl/url?sa=t&amp;source=web&amp;cd=1&amp;...</td>\n",
       "      <td>2016-03-19 10:03:28</td>\n",
       "      <td>Watsi | Fund medical treatments for people aro...</td>\n",
       "      <td>https://watsi.org/</td>\n",
       "      <td>Mozilla/5.0 (Linux; Android 5.1.1; SAMSUNG SM-...</td>\n",
       "      <td>KRISTIAN E</td>\n",
       "      <td>google</td>\n",
       "      <td></td>\n",
       "      <td>Android</td>\n",
       "    </tr>\n",
       "    <tr>\n",
       "      <th>3115</th>\n",
       "      <td>https://www.reddit.com/r/Anarcho_Capitalism/co...</td>\n",
       "      <td>2015-12-19 00:33:04</td>\n",
       "      <td>Watsi | Give the gift of health with a Watsi G...</td>\n",
       "      <td>https://watsi.org/gift-cards</td>\n",
       "      <td>Mozilla/5.0 (Windows NT 6.1; WOW64) AppleWebKi...</td>\n",
       "      <td>JAIMEE U</td>\n",
       "      <td>reddit.com</td>\n",
       "      <td>gift-cards</td>\n",
       "      <td>Desktop</td>\n",
       "    </tr>\n",
       "    <tr>\n",
       "      <th>3886</th>\n",
       "      <td>http://poormedicalcare.weebly.com/help-our-cau...</td>\n",
       "      <td>2016-03-19 18:30:13</td>\n",
       "      <td>Watsi | Fund medical treatments for people aro...</td>\n",
       "      <td>https://watsi.org/</td>\n",
       "      <td>Mozilla/5.0 (Windows NT 10.0; WOW64) AppleWebK...</td>\n",
       "      <td>STEPANIE V</td>\n",
       "      <td>weebly.com</td>\n",
       "      <td></td>\n",
       "      <td>Desktop</td>\n",
       "    </tr>\n",
       "    <tr>\n",
       "      <th>3980</th>\n",
       "      <td>http://my.parallaxsearch.com/web?qs=crowd+fund...</td>\n",
       "      <td>2016-03-11 05:22:01</td>\n",
       "      <td>Watsi | Fund medical treatments for people aro...</td>\n",
       "      <td>https://watsi.org/</td>\n",
       "      <td>Mozilla/5.0 (Windows NT 6.1; WOW64) AppleWebKi...</td>\n",
       "      <td>ELLIE U</td>\n",
       "      <td>parallaxsearch.com</td>\n",
       "      <td></td>\n",
       "      <td>Desktop</td>\n",
       "    </tr>\n",
       "    <tr>\n",
       "      <th>4859</th>\n",
       "      <td>http://www.google.co.in/search?site=&amp;oq=crowdf...</td>\n",
       "      <td>2016-03-14 18:59:07</td>\n",
       "      <td>Watsi | Fund medical treatments for people aro...</td>\n",
       "      <td>https://watsi.org/</td>\n",
       "      <td>Mozilla/5.0 (Linux; U; Android 2.3.6; en-us; S...</td>\n",
       "      <td>MARRY D</td>\n",
       "      <td>google</td>\n",
       "      <td></td>\n",
       "      <td>Android</td>\n",
       "    </tr>\n",
       "  </tbody>\n",
       "</table>\n",
       "</div>"
      ],
      "text/plain": [
       "                                               referrer            timestamp  \\\n",
       "222   http://www.inc.com/abigail-tracy/new-crowdfund...  2015-12-07 23:15:52   \n",
       "568   http://www.google.pl/url?sa=t&source=web&cd=1&...  2016-03-19 10:03:28   \n",
       "3115  https://www.reddit.com/r/Anarcho_Capitalism/co...  2015-12-19 00:33:04   \n",
       "3886  http://poormedicalcare.weebly.com/help-our-cau...  2016-03-19 18:30:13   \n",
       "3980  http://my.parallaxsearch.com/web?qs=crowd+fund...  2016-03-11 05:22:01   \n",
       "4859  http://www.google.co.in/search?site=&oq=crowdf...  2016-03-14 18:59:07   \n",
       "\n",
       "                                                  title  \\\n",
       "222   Watsi | Fund medical treatments for people aro...   \n",
       "568   Watsi | Fund medical treatments for people aro...   \n",
       "3115  Watsi | Give the gift of health with a Watsi G...   \n",
       "3886  Watsi | Fund medical treatments for people aro...   \n",
       "3980  Watsi | Fund medical treatments for people aro...   \n",
       "4859  Watsi | Fund medical treatments for people aro...   \n",
       "\n",
       "                               url  \\\n",
       "222             https://watsi.org/   \n",
       "568             https://watsi.org/   \n",
       "3115  https://watsi.org/gift-cards   \n",
       "3886            https://watsi.org/   \n",
       "3980            https://watsi.org/   \n",
       "4859            https://watsi.org/   \n",
       "\n",
       "                                             user_agent       user_id  \\\n",
       "222   Mozilla/5.0 (iPad; CPU OS 9_1 like Mac OS X) A...  BERNADETTE W   \n",
       "568   Mozilla/5.0 (Linux; Android 5.1.1; SAMSUNG SM-...    KRISTIAN E   \n",
       "3115  Mozilla/5.0 (Windows NT 6.1; WOW64) AppleWebKi...      JAIMEE U   \n",
       "3886  Mozilla/5.0 (Windows NT 10.0; WOW64) AppleWebK...    STEPANIE V   \n",
       "3980  Mozilla/5.0 (Windows NT 6.1; WOW64) AppleWebKi...       ELLIE U   \n",
       "4859  Mozilla/5.0 (Linux; U; Android 2.3.6; en-us; S...       MARRY D   \n",
       "\n",
       "         referrer_domain website_section platform  \n",
       "222              inc.com                     iPad  \n",
       "568               google                  Android  \n",
       "3115          reddit.com      gift-cards  Desktop  \n",
       "3886          weebly.com                  Desktop  \n",
       "3980  parallaxsearch.com                  Desktop  \n",
       "4859              google                  Android  "
      ]
     },
     "execution_count": 10,
     "metadata": {},
     "output_type": "execute_result"
    }
   ],
   "source": [
    "medical_referrals = data[data['referrer'].str.contains('medical')]\n",
    "medical_referrals"
   ]
  },
  {
   "cell_type": "code",
   "execution_count": 11,
   "metadata": {},
   "outputs": [
    {
     "data": {
      "text/plain": [
       "['http://www.inc.com/abigail-tracy/new-crowdfunding-site-for-medical-students.html',\n",
       " 'http://www.google.pl/url?sa=t&source=web&cd=1&rct=j&q=medical%20treatment%20grants&ved=0ahUKEwjRo5DGv8zLAhUiS5oKHdOAC58QFggaMAA&url=https%3A%2F%2Fwatsi.org%2F&usg=AFQjCNEkfSK0vlcYRRpj89LfLVEvb8rV6A&sig2=dKNwFh-vKOj-UFZJ63zciw',\n",
       " 'https://www.reddit.com/r/Anarcho_Capitalism/comments/3xddbx/watsi_a_cool_new_charity_that_crowdfunds_medical/',\n",
       " 'http://poormedicalcare.weebly.com/help-our-cause.html',\n",
       " 'http://my.parallaxsearch.com/web?qs=crowd+funding+for+medical+treatment',\n",
       " 'http://www.google.co.in/search?site=&oq=crowdfunding+for+me&aqs=mobile-gws-lite.0.0l5&q=crowdfunding+for+medical+treatment']"
      ]
     },
     "execution_count": 11,
     "metadata": {},
     "output_type": "execute_result"
    }
   ],
   "source": [
    "medical_referrals['referrer'].tolist()"
   ]
  },
  {
   "cell_type": "code",
   "execution_count": 12,
   "metadata": {},
   "outputs": [
    {
     "data": {
      "text/plain": [
       "['http://www.inc.com/abigail-tracy/new-crowdfunding-site-for-medical-students.html',\n",
       " 'https://www.reddit.com/r/Anarcho_Capitalism/comments/3xddbx/watsi_a_cool_new_charity_that_crowdfunds_medical/',\n",
       " 'http://www.google.co.in/search?site=&oq=crowdfunding+for+me&aqs=mobile-gws-lite.0.0l5&q=crowdfunding+for+medical+treatment']"
      ]
     },
     "execution_count": 12,
     "metadata": {},
     "output_type": "execute_result"
    }
   ],
   "source": [
    "crowdfund_index = data['referrer'].str.contains('crowdfund')\n",
    "data[crowdfund_index]['referrer'].tolist()"
   ]
  },
  {
   "cell_type": "code",
   "execution_count": 13,
   "metadata": {},
   "outputs": [
    {
     "data": {
      "text/plain": [
       "['http://www.inc.com/abigail-tracy/new-crowdfunding-site-for-medical-students.html',\n",
       " 'https://www.reddit.com/r/Anarcho_Capitalism/comments/3xddbx/watsi_a_cool_new_charity_that_crowdfunds_medical/',\n",
       " 'http://www.google.co.in/search?site=&oq=crowdfunding+for+me&aqs=mobile-gws-lite.0.0l5&q=crowdfunding+for+medical+treatment']"
      ]
     },
     "execution_count": 13,
     "metadata": {},
     "output_type": "execute_result"
    }
   ],
   "source": [
    "# a one liner way\n",
    "data[data['referrer'].str.contains('crowdfund')]['referrer'].tolist()"
   ]
  },
  {
   "cell_type": "code",
   "execution_count": 14,
   "metadata": {},
   "outputs": [
    {
     "name": "stdout",
     "output_type": "stream",
     "text": [
      "<class 'pandas.core.frame.DataFrame'>\n",
      "RangeIndex: 5000 entries, 0 to 4999\n",
      "Data columns (total 9 columns):\n",
      "referrer           5000 non-null object\n",
      "timestamp          5000 non-null object\n",
      "title              5000 non-null object\n",
      "url                5000 non-null object\n",
      "user_agent         5000 non-null object\n",
      "user_id            5000 non-null object\n",
      "referrer_domain    5000 non-null object\n",
      "website_section    5000 non-null object\n",
      "platform           5000 non-null object\n",
      "dtypes: object(9)\n",
      "memory usage: 351.6+ KB\n"
     ]
    }
   ],
   "source": [
    "data.info()"
   ]
  },
  {
   "cell_type": "code",
   "execution_count": 16,
   "metadata": {},
   "outputs": [
    {
     "data": {
      "text/plain": [
       "['Mozilla/5.0 (Mobile; Windows Phone 8.1; Android 4.0; ARM; Trident/7.0; Touch; rv:11.0; IEMobile/11.0; NOKIA; Lumia 635) like iPhone OS 7_0_3 Mac OS X AppleWebKit/537 (KHTML, like Gecko) Mobile Safari/537',\n",
       " 'Mozilla/5.0 (Mobile; Windows Phone 8.1; Android 4.0; ARM; Trident/7.0; Touch; rv:11.0; IEMobile/11.0; Microsoft; Lumia 535 Dual SIM) like iPhone OS 7_0_3 Mac OS X AppleWebKit/537 (KHTML, like Gecko) Mobile Safari/537',\n",
       " 'Mozilla/5.0 (Mobile; Windows Phone 8.1; Android 4.0; ARM; Trident/7.0; Touch; rv:11.0; IEMobile/11.0; Microsoft; Lumia 535 Dual SIM) like iPhone OS 7_0_3 Mac OS X AppleWebKit/537 (KHTML, like Gecko) Mobile Safari/537',\n",
       " 'Mozilla/5.0 (Mobile; Windows Phone 8.1; Android 4.0; ARM; Trident/7.0; Touch; rv:11.0; IEMobile/11.0; Microsoft; Lumia 532; Orange) like iPhone OS 7_0_3 Mac OS X AppleWebKit/537 (KHTML, like Gecko) Mobile Safari/537',\n",
       " 'Mozilla/5.0 (compatible; MSIE 10.0; Windows Phone 8.0; Trident/6.0; IEMobile/10.0; ARM; Touch; Microsoft; Lumia 640 XL Dual SIM)',\n",
       " 'Mozilla/5.0 (Mobile; Windows Phone 8.1; Android 4.0; ARM; Trident/7.0; Touch; rv:11.0; IEMobile/11.0; NOKIA; Lumia 630) like iPhone OS 7_0_3 Mac OS X AppleWebKit/537 (KHTML, like Gecko) Mobile Safari/537',\n",
       " 'Mozilla/5.0 (Mobile; Windows Phone 8.1; Android 4.0; ARM; Trident/7.0; Touch; rv:11.0; IEMobile/11.0; NOKIA; Lumia 1520) like iPhone OS 7_0_3 Mac OS X AppleWebKit/537 (KHTML, like Gecko) Mobile Safari/537',\n",
       " 'Mozilla/5.0 (Mobile; Windows Phone 8.1; Android 4.0; ARM; Trident/7.0; Touch; rv:11.0; IEMobile/11.0; NOKIA; Lumia 929) like iPhone OS 7_0_3 Mac OS X AppleWebKit/537 (KHTML, like Gecko) Mobile Safari/537',\n",
       " 'Mozilla/5.0 (Mobile; Windows Phone 8.1; Android 4.0; ARM; Trident/7.0; Touch; rv:11.0; IEMobile/11.0; Microsoft; Lumia 535 Dual SIM) like iPhone OS 7_0_3 Mac OS X AppleWebKit/537 (KHTML, like Gecko) Mobile Safari/537',\n",
       " 'Mozilla/5.0 (Mobile; Windows Phone 8.1; Android 4.0; ARM; Trident/7.0; Touch; rv:11.0; IEMobile/11.0; Microsoft; Lumia 435 Dual SIM) like iPhone OS 7_0_3 Mac OS X AppleWebKit/537 (KHTML, like Gecko) Mobile Safari/537']"
      ]
     },
     "execution_count": 16,
     "metadata": {},
     "output_type": "execute_result"
    }
   ],
   "source": [
    "idx = data['user_agent'].str.contains('IEMobile')\n",
    "data[idx]['user_agent'].tolist()"
   ]
  },
  {
   "cell_type": "code",
   "execution_count": null,
   "metadata": {
    "collapsed": true
   },
   "outputs": [],
   "source": []
  }
 ],
 "metadata": {
  "kernelspec": {
   "display_name": "Python 3",
   "language": "python",
   "name": "python3"
  },
  "language_info": {
   "codemirror_mode": {
    "name": "ipython",
    "version": 3
   },
   "file_extension": ".py",
   "mimetype": "text/x-python",
   "name": "python",
   "nbconvert_exporter": "python",
   "pygments_lexer": "ipython3",
   "version": "3.7.3"
  }
 },
 "nbformat": 4,
 "nbformat_minor": 2
}
