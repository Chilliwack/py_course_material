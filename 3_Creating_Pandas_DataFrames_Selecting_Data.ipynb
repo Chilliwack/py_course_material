{
 "cells": [
  {
   "cell_type": "markdown",
   "metadata": {},
   "source": [
    "#### Lesson 3 Creating Pandas DataFrame & Selecting Data ####\n",
    "Link to this lesson: https://community.modeanalytics.com/python/tutorial/pandas-dataframe/"
   ]
  },
  {
   "cell_type": "code",
   "execution_count": 12,
   "metadata": {
    "collapsed": true
   },
   "outputs": [],
   "source": [
    "# Import packages\n",
    "import pandas as pd\n",
    "# show plots in the notebook\n",
    "%matplotlib inline\n",
    "# default notebook setup\n",
    "pd.options.display.float_format = '{:3f}'.format # suppresses scientific notation in pandas"
   ]
  },
  {
   "cell_type": "code",
   "execution_count": 13,
   "metadata": {},
   "outputs": [
    {
     "name": "stdout",
     "output_type": "stream",
     "text": [
      "<class 'pandas.core.frame.DataFrame'>\n",
      "RangeIndex: 5000 entries, 0 to 4999\n",
      "Data columns (total 9 columns):\n",
      "referrer           5000 non-null object\n",
      "timestamp          5000 non-null object\n",
      "title              5000 non-null object\n",
      "url                5000 non-null object\n",
      "user_agent         5000 non-null object\n",
      "user_id            5000 non-null object\n",
      "referrer_domain    5000 non-null object\n",
      "website_section    5000 non-null object\n",
      "platform           5000 non-null object\n",
      "dtypes: object(9)\n",
      "memory usage: 351.6+ KB\n"
     ]
    }
   ],
   "source": [
    "# Reads in the csv of Watsi data\n",
    "data = pd.read_csv('watsi_dataset_demo.csv')\n",
    "data = data.fillna('') # replace missing values with strings for easier text processing\n",
    "data.info() # prints out column names, counts and dtypes in the dataframe\n",
    "# the Watsi web traffic can now be called via the 'data' dataframe object"
   ]
  },
  {
   "cell_type": "markdown",
   "metadata": {},
   "source": [
    "#### Selecting columns in a DataFrame"
   ]
  },
  {
   "cell_type": "code",
   "execution_count": 14,
   "metadata": {
    "scrolled": true
   },
   "outputs": [
    {
     "data": {
      "text/plain": [
       "0                                      https://watsi.org/\n",
       "1                  https://watsi.org/team/the-meteor-chef\n",
       "2                            https://watsi.org/gift-cards\n",
       "3                                      https://watsi.org/\n",
       "4                                      https://watsi.org/\n",
       "5                       https://watsi.org/fund-treatments\n",
       "6                                https://watsi.org/redeem\n",
       "7       https://watsi.org/profile/4f0c9b3fb0b1-rasty-noel\n",
       "8                       https://watsi.org/fund-treatments\n",
       "9                                      https://watsi.org/\n",
       "10             https://watsi.org/profile/d87daef43419-eng\n",
       "11            https://watsi.org/profile/a8f5d57946bc-mary\n",
       "12      https://watsi.org/profile/ef9cce891dc4-anibal/...\n",
       "13                        https://watsi.org/growth-round/\n",
       "14                      https://watsi.org/fund-treatments\n",
       "15                   https://watsi.org/donor/aca35c84f099\n",
       "16      https://watsi.org/2015?utm_source=watsi&utm_me...\n",
       "17      http://xiaoxiaozc.cn/web/index_index?path=/web...\n",
       "18          https://watsi.org/profile/fc68a83a1775-dorcas\n",
       "19                                     https://watsi.org/\n",
       "20                                     https://watsi.org/\n",
       "21                   https://watsi.org/donor/1ea420b2576f\n",
       "22                              https://watsi.org/contact\n",
       "23                      https://watsi.org/fund-treatments\n",
       "24            https://watsi.org/profile/de3834249f30-hiru\n",
       "25                                  https://watsi.org/how\n",
       "26         https://watsi.org/profile/bdb7a51d9090-mathias\n",
       "27          https://watsi.org/campaign/jenna-s-birthday-1\n",
       "28      https://watsi.org/welcome/reddit-uplifting-new...\n",
       "29                                     https://watsi.org/\n",
       "                              ...                        \n",
       "4970                     https://watsi.org/universal-fund\n",
       "4971                                https://watsi.org/how\n",
       "4972          https://watsi.org/profile/71a410d0a7a1-yart\n",
       "4973                                   https://watsi.org/\n",
       "4974                                   https://watsi.org/\n",
       "4975                     https://watsi.org/universal-fund\n",
       "4976                    https://watsi.org/fund-treatments\n",
       "4977                    https://watsi.org/fund-treatments\n",
       "4978         https://watsi.org/profile/c195843fed91-glory\n",
       "4979      https://watsi.org/profile/a985f340f200-benedict\n",
       "4980                       https://watsi.org/team/sidwell\n",
       "4981                 https://watsi.org/donor/74d2ecf5ca39\n",
       "4982    https://watsi.org/funds_transfers/tr_7zclouTHZ...\n",
       "4983                                   https://watsi.org/\n",
       "4984                                   https://watsi.org/\n",
       "4985        https://watsi.org/profile/46b4325005c5-julius\n",
       "4986    https://watsi.org/campaign/oscar/donate?utf8=%...\n",
       "4987                                   https://watsi.org/\n",
       "4988                    https://watsi.org/fund-treatments\n",
       "4989          https://watsi.org/profile/22089de0d6a1-john\n",
       "4990         https://watsi.org/profile/012df826a14a-puspa\n",
       "4991                                   https://watsi.org/\n",
       "4992                            https://watsi.org/funders\n",
       "4993    https://watsi.org/profile/a62467987369-nyakaisiki\n",
       "4994    http://blog.watsi.org/linkedin-raised-5k-for-p...\n",
       "4995                    https://watsi.org/fund-treatments\n",
       "4996                                   https://watsi.org/\n",
       "4997                                   https://watsi.org/\n",
       "4998         https://watsi.org/profile/6705ce017f7e-sarah\n",
       "4999             https://watsi.org/fund-treatments?page=4\n",
       "Name: url, dtype: object"
      ]
     },
     "execution_count": 14,
     "metadata": {},
     "output_type": "execute_result"
    }
   ],
   "source": [
    "data['url']"
   ]
  },
  {
   "cell_type": "code",
   "execution_count": 15,
   "metadata": {},
   "outputs": [
    {
     "data": {
      "text/html": [
       "<div>\n",
       "<table border=\"1\" class=\"dataframe\">\n",
       "  <thead>\n",
       "    <tr style=\"text-align: right;\">\n",
       "      <th></th>\n",
       "      <th>referrer</th>\n",
       "      <th>timestamp</th>\n",
       "      <th>title</th>\n",
       "      <th>url</th>\n",
       "      <th>user_agent</th>\n",
       "      <th>user_id</th>\n",
       "      <th>referrer_domain</th>\n",
       "      <th>website_section</th>\n",
       "      <th>platform</th>\n",
       "    </tr>\n",
       "  </thead>\n",
       "  <tbody>\n",
       "    <tr>\n",
       "      <th>0</th>\n",
       "      <td>https://www.google.com/</td>\n",
       "      <td>2016-02-05 00:48:23</td>\n",
       "      <td>Watsi | Fund medical treatments for people aro...</td>\n",
       "      <td>https://watsi.org/</td>\n",
       "      <td>Mozilla/5.0 (Macintosh; Intel Mac OS X 10_10_4...</td>\n",
       "      <td>CHAROLETTE S</td>\n",
       "      <td>google</td>\n",
       "      <td></td>\n",
       "      <td>Desktop</td>\n",
       "    </tr>\n",
       "    <tr>\n",
       "      <th>1</th>\n",
       "      <td>https://themeteorchef.com/snippets/making-use-...</td>\n",
       "      <td>2016-02-24 23:12:10</td>\n",
       "      <td>Watsi | The Meteor Chef</td>\n",
       "      <td>https://watsi.org/team/the-meteor-chef</td>\n",
       "      <td>Mozilla/5.0 (Windows NT 6.1; WOW64) AppleWebKi...</td>\n",
       "      <td>WARREN Q</td>\n",
       "      <td>themeteorchef.com</td>\n",
       "      <td>team</td>\n",
       "      <td>Desktop</td>\n",
       "    </tr>\n",
       "    <tr>\n",
       "      <th>2</th>\n",
       "      <td>https://watsi.org/</td>\n",
       "      <td>2015-12-25 17:59:35</td>\n",
       "      <td>Watsi | Give the gift of health with a Watsi G...</td>\n",
       "      <td>https://watsi.org/gift-cards</td>\n",
       "      <td>Mozilla/5.0 (Macintosh; Intel Mac OS X 10_11_1...</td>\n",
       "      <td>MITCHEL O</td>\n",
       "      <td>watsi.org</td>\n",
       "      <td>gift-cards</td>\n",
       "      <td>Desktop</td>\n",
       "    </tr>\n",
       "  </tbody>\n",
       "</table>\n",
       "</div>"
      ],
      "text/plain": [
       "                                            referrer            timestamp  \\\n",
       "0                            https://www.google.com/  2016-02-05 00:48:23   \n",
       "1  https://themeteorchef.com/snippets/making-use-...  2016-02-24 23:12:10   \n",
       "2                                 https://watsi.org/  2015-12-25 17:59:35   \n",
       "\n",
       "                                               title  \\\n",
       "0  Watsi | Fund medical treatments for people aro...   \n",
       "1                            Watsi | The Meteor Chef   \n",
       "2  Watsi | Give the gift of health with a Watsi G...   \n",
       "\n",
       "                                      url  \\\n",
       "0                      https://watsi.org/   \n",
       "1  https://watsi.org/team/the-meteor-chef   \n",
       "2            https://watsi.org/gift-cards   \n",
       "\n",
       "                                          user_agent       user_id  \\\n",
       "0  Mozilla/5.0 (Macintosh; Intel Mac OS X 10_10_4...  CHAROLETTE S   \n",
       "1  Mozilla/5.0 (Windows NT 6.1; WOW64) AppleWebKi...      WARREN Q   \n",
       "2  Mozilla/5.0 (Macintosh; Intel Mac OS X 10_11_1...     MITCHEL O   \n",
       "\n",
       "     referrer_domain website_section platform  \n",
       "0             google                  Desktop  \n",
       "1  themeteorchef.com            team  Desktop  \n",
       "2          watsi.org      gift-cards  Desktop  "
      ]
     },
     "execution_count": 15,
     "metadata": {},
     "output_type": "execute_result"
    }
   ],
   "source": [
    "data[:3]"
   ]
  },
  {
   "cell_type": "code",
   "execution_count": 16,
   "metadata": {},
   "outputs": [
    {
     "data": {
      "text/html": [
       "<div>\n",
       "<table border=\"1\" class=\"dataframe\">\n",
       "  <thead>\n",
       "    <tr style=\"text-align: right;\">\n",
       "      <th></th>\n",
       "      <th>referrer</th>\n",
       "      <th>timestamp</th>\n",
       "      <th>title</th>\n",
       "      <th>url</th>\n",
       "      <th>user_agent</th>\n",
       "      <th>user_id</th>\n",
       "      <th>referrer_domain</th>\n",
       "      <th>website_section</th>\n",
       "      <th>platform</th>\n",
       "    </tr>\n",
       "  </thead>\n",
       "  <tbody>\n",
       "    <tr>\n",
       "      <th>4</th>\n",
       "      <td>https://watsi.org/fund-treatments</td>\n",
       "      <td>2016-02-14 19:30:08</td>\n",
       "      <td>Watsi | Fund medical treatments for people aro...</td>\n",
       "      <td>https://watsi.org/</td>\n",
       "      <td>Mozilla/5.0 (Macintosh; Intel Mac OS X 10_10_2...</td>\n",
       "      <td>ANDREE N</td>\n",
       "      <td>watsi.org</td>\n",
       "      <td></td>\n",
       "      <td>Desktop</td>\n",
       "    </tr>\n",
       "    <tr>\n",
       "      <th>5</th>\n",
       "      <td>http://blog.watsi.org/</td>\n",
       "      <td>2015-10-15 06:04:40</td>\n",
       "      <td>Watsi | Fund a medical treatment on Watsi. 100...</td>\n",
       "      <td>https://watsi.org/fund-treatments</td>\n",
       "      <td>Mozilla/5.0 (Macintosh; Intel Mac OS X 10_10_4...</td>\n",
       "      <td>SHAREN Y</td>\n",
       "      <td>watsi.org</td>\n",
       "      <td>fund-treatments</td>\n",
       "      <td>Desktop</td>\n",
       "    </tr>\n",
       "    <tr>\n",
       "      <th>6</th>\n",
       "      <td></td>\n",
       "      <td>2015-12-25 10:23:43</td>\n",
       "      <td>Watsi | Redeem your Watsi Gift Card</td>\n",
       "      <td>https://watsi.org/redeem</td>\n",
       "      <td>Mozilla/5.0 (Windows NT 6.1; WOW64; rv:43.0) G...</td>\n",
       "      <td>BRICE Z</td>\n",
       "      <td></td>\n",
       "      <td>redeem</td>\n",
       "      <td>Desktop</td>\n",
       "    </tr>\n",
       "  </tbody>\n",
       "</table>\n",
       "</div>"
      ],
      "text/plain": [
       "                            referrer            timestamp  \\\n",
       "4  https://watsi.org/fund-treatments  2016-02-14 19:30:08   \n",
       "5             http://blog.watsi.org/  2015-10-15 06:04:40   \n",
       "6                                     2015-12-25 10:23:43   \n",
       "\n",
       "                                               title  \\\n",
       "4  Watsi | Fund medical treatments for people aro...   \n",
       "5  Watsi | Fund a medical treatment on Watsi. 100...   \n",
       "6                Watsi | Redeem your Watsi Gift Card   \n",
       "\n",
       "                                 url  \\\n",
       "4                 https://watsi.org/   \n",
       "5  https://watsi.org/fund-treatments   \n",
       "6           https://watsi.org/redeem   \n",
       "\n",
       "                                          user_agent   user_id  \\\n",
       "4  Mozilla/5.0 (Macintosh; Intel Mac OS X 10_10_2...  ANDREE N   \n",
       "5  Mozilla/5.0 (Macintosh; Intel Mac OS X 10_10_4...  SHAREN Y   \n",
       "6  Mozilla/5.0 (Windows NT 6.1; WOW64; rv:43.0) G...   BRICE Z   \n",
       "\n",
       "  referrer_domain  website_section platform  \n",
       "4       watsi.org                   Desktop  \n",
       "5       watsi.org  fund-treatments  Desktop  \n",
       "6                           redeem  Desktop  "
      ]
     },
     "execution_count": 16,
     "metadata": {},
     "output_type": "execute_result"
    }
   ],
   "source": [
    "data[4:7]"
   ]
  },
  {
   "cell_type": "code",
   "execution_count": 17,
   "metadata": {
    "scrolled": false
   },
   "outputs": [
    {
     "data": {
      "text/html": [
       "<div>\n",
       "<table border=\"1\" class=\"dataframe\">\n",
       "  <thead>\n",
       "    <tr style=\"text-align: right;\">\n",
       "      <th></th>\n",
       "      <th>referrer</th>\n",
       "      <th>timestamp</th>\n",
       "      <th>title</th>\n",
       "      <th>url</th>\n",
       "      <th>user_agent</th>\n",
       "      <th>user_id</th>\n",
       "      <th>referrer_domain</th>\n",
       "      <th>website_section</th>\n",
       "      <th>platform</th>\n",
       "    </tr>\n",
       "  </thead>\n",
       "  <tbody>\n",
       "    <tr>\n",
       "      <th>4997</th>\n",
       "      <td>http://aplus.com/a/kid-has-flexible-neck?c=654...</td>\n",
       "      <td>2016-01-03 02:48:38</td>\n",
       "      <td>Watsi | Fund medical treatments for people aro...</td>\n",
       "      <td>https://watsi.org/</td>\n",
       "      <td>Mozilla/5.0 (iPhone; CPU iPhone OS 7_0_4 like ...</td>\n",
       "      <td>NOELLE P</td>\n",
       "      <td>aplus.com</td>\n",
       "      <td></td>\n",
       "      <td>iPhone</td>\n",
       "    </tr>\n",
       "    <tr>\n",
       "      <th>4998</th>\n",
       "      <td>https://watsi.org/fund-treatments?page=2</td>\n",
       "      <td>2016-02-07 23:47:53</td>\n",
       "      <td>Watsi | Success! Sarah from Kenya raised $1,12...</td>\n",
       "      <td>https://watsi.org/profile/6705ce017f7e-sarah</td>\n",
       "      <td>Mozilla/5.0 (iPad; CPU OS 9_2 like Mac OS X) A...</td>\n",
       "      <td>JERICA F</td>\n",
       "      <td>watsi.org</td>\n",
       "      <td>profile</td>\n",
       "      <td>iPad</td>\n",
       "    </tr>\n",
       "    <tr>\n",
       "      <th>4999</th>\n",
       "      <td>https://watsi.org/</td>\n",
       "      <td>2015-11-17 16:38:25</td>\n",
       "      <td>Watsi | Fund a medical treatment on Watsi. 100...</td>\n",
       "      <td>https://watsi.org/fund-treatments?page=4</td>\n",
       "      <td>Mozilla/5.0 (Macintosh; Intel Mac OS X 10_10_5...</td>\n",
       "      <td>MARIANNA I</td>\n",
       "      <td>watsi.org</td>\n",
       "      <td>fund-treatments</td>\n",
       "      <td>Desktop</td>\n",
       "    </tr>\n",
       "  </tbody>\n",
       "</table>\n",
       "</div>"
      ],
      "text/plain": [
       "                                               referrer            timestamp  \\\n",
       "4997  http://aplus.com/a/kid-has-flexible-neck?c=654...  2016-01-03 02:48:38   \n",
       "4998           https://watsi.org/fund-treatments?page=2  2016-02-07 23:47:53   \n",
       "4999                                 https://watsi.org/  2015-11-17 16:38:25   \n",
       "\n",
       "                                                  title  \\\n",
       "4997  Watsi | Fund medical treatments for people aro...   \n",
       "4998  Watsi | Success! Sarah from Kenya raised $1,12...   \n",
       "4999  Watsi | Fund a medical treatment on Watsi. 100...   \n",
       "\n",
       "                                               url  \\\n",
       "4997                            https://watsi.org/   \n",
       "4998  https://watsi.org/profile/6705ce017f7e-sarah   \n",
       "4999      https://watsi.org/fund-treatments?page=4   \n",
       "\n",
       "                                             user_agent     user_id  \\\n",
       "4997  Mozilla/5.0 (iPhone; CPU iPhone OS 7_0_4 like ...    NOELLE P   \n",
       "4998  Mozilla/5.0 (iPad; CPU OS 9_2 like Mac OS X) A...    JERICA F   \n",
       "4999  Mozilla/5.0 (Macintosh; Intel Mac OS X 10_10_5...  MARIANNA I   \n",
       "\n",
       "     referrer_domain  website_section platform  \n",
       "4997       aplus.com                    iPhone  \n",
       "4998       watsi.org          profile     iPad  \n",
       "4999       watsi.org  fund-treatments  Desktop  "
      ]
     },
     "execution_count": 17,
     "metadata": {},
     "output_type": "execute_result"
    }
   ],
   "source": [
    "data[4997:]"
   ]
  },
  {
   "cell_type": "code",
   "execution_count": 18,
   "metadata": {
    "scrolled": true
   },
   "outputs": [
    {
     "data": {
      "text/plain": [
       "referrer           https://themeteorchef.com/snippets/making-use-...\n",
       "timestamp                                        2016-02-24 23:12:10\n",
       "title                                        Watsi | The Meteor Chef\n",
       "url                           https://watsi.org/team/the-meteor-chef\n",
       "user_agent         Mozilla/5.0 (Windows NT 6.1; WOW64) AppleWebKi...\n",
       "user_id                                                     WARREN Q\n",
       "referrer_domain                                    themeteorchef.com\n",
       "website_section                                                 team\n",
       "platform                                                     Desktop\n",
       "Name: 1, dtype: object"
      ]
     },
     "execution_count": 18,
     "metadata": {},
     "output_type": "execute_result"
    }
   ],
   "source": [
    "data.ix[1]"
   ]
  },
  {
   "cell_type": "code",
   "execution_count": 19,
   "metadata": {},
   "outputs": [
    {
     "data": {
      "text/plain": [
       "0    Watsi | Fund medical treatments for people aro...\n",
       "1                              Watsi | The Meteor Chef\n",
       "2    Watsi | Give the gift of health with a Watsi G...\n",
       "Name: title, dtype: object"
      ]
     },
     "execution_count": 19,
     "metadata": {},
     "output_type": "execute_result"
    }
   ],
   "source": [
    "data['title'][:3]"
   ]
  },
  {
   "cell_type": "code",
   "execution_count": 20,
   "metadata": {},
   "outputs": [
    {
     "data": {
      "text/plain": [
       "0    Watsi | Fund medical treatments for people aro...\n",
       "1                              Watsi | The Meteor Chef\n",
       "2    Watsi | Give the gift of health with a Watsi G...\n",
       "Name: title, dtype: object"
      ]
     },
     "execution_count": 20,
     "metadata": {},
     "output_type": "execute_result"
    }
   ],
   "source": [
    "data[:3]['title']"
   ]
  },
  {
   "cell_type": "code",
   "execution_count": 21,
   "metadata": {},
   "outputs": [
    {
     "data": {
      "text/plain": [
       "10                                                 \n",
       "11                        https://www.facebook.com/\n",
       "12    https://watsi.org/profile/ef9cce891dc4-anibal\n",
       "13                                                 \n",
       "14         https://watsi.org/donor/settings/payment\n",
       "Name: referrer, dtype: object"
      ]
     },
     "execution_count": 21,
     "metadata": {},
     "output_type": "execute_result"
    }
   ],
   "source": [
    "data['referrer'][10:15]"
   ]
  },
  {
   "cell_type": "code",
   "execution_count": 22,
   "metadata": {},
   "outputs": [
    {
     "data": {
      "text/plain": [
       "10                                                 \n",
       "11                        https://www.facebook.com/\n",
       "12    https://watsi.org/profile/ef9cce891dc4-anibal\n",
       "13                                                 \n",
       "14         https://watsi.org/donor/settings/payment\n",
       "Name: referrer, dtype: object"
      ]
     },
     "execution_count": 22,
     "metadata": {},
     "output_type": "execute_result"
    }
   ],
   "source": [
    "data[10:15]['referrer']"
   ]
  },
  {
   "cell_type": "code",
   "execution_count": null,
   "metadata": {
    "collapsed": true
   },
   "outputs": [],
   "source": []
  }
 ],
 "metadata": {
  "kernelspec": {
   "display_name": "Python 3",
   "language": "python",
   "name": "python3"
  },
  "language_info": {
   "codemirror_mode": {
    "name": "ipython",
    "version": 3
   },
   "file_extension": ".py",
   "mimetype": "text/x-python",
   "name": "python",
   "nbconvert_exporter": "python",
   "pygments_lexer": "ipython3",
   "version": "3.7.3"
  }
 },
 "nbformat": 4,
 "nbformat_minor": 2
}
